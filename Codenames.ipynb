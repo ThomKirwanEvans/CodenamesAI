{
  "nbformat": 4,
  "nbformat_minor": 0,
  "metadata": {
    "colab": {
      "name": "Codenames",
      "provenance": [],
      "collapsed_sections": [],
      "authorship_tag": "ABX9TyMe4K9UiQS1Msch/IJ015mH",
      "include_colab_link": true
    },
    "kernelspec": {
      "name": "python3",
      "display_name": "Python 3"
    },
    "accelerator": "GPU"
  },
  "cells": [
    {
      "cell_type": "markdown",
      "metadata": {
        "id": "view-in-github",
        "colab_type": "text"
      },
      "source": [
        "<a href=\"https://colab.research.google.com/github/ThomKirwanEvans/CodenamesAI/blob/master/Codenames.ipynb\" target=\"_parent\"><img src=\"https://colab.research.google.com/assets/colab-badge.svg\" alt=\"Open In Colab\"/></a>"
      ]
    },
    {
      "cell_type": "markdown",
      "metadata": {
        "id": "x9wpyy6IvRqQ",
        "colab_type": "text"
      },
      "source": [
        "# Codenames AI\n"
      ]
    },
    {
      "cell_type": "code",
      "metadata": {
        "id": "jYqbjlrUueq2",
        "colab_type": "code",
        "colab": {
          "base_uri": "https://localhost:8080/",
          "height": 70
        },
        "outputId": "9fba2c1c-3232-47e7-ca7e-498cf9cfc052"
      },
      "source": [
        "# Imports\n",
        "import tensorflow_hub as hub\n",
        "from matplotlib import pyplot as plt\n",
        "import numpy as np\n",
        "import os\n",
        "import requests\n",
        "import itertools\n",
        "import seaborn as sns\n",
        "sns.set()\n",
        "\n",
        "# helper functions\n",
        "# calc distances\n",
        "def calc_dist(set1,set2):\n",
        "    # euclidean dist to start with\n",
        "    dmat = np.zeros((set1.shape[0],set2.shape[0]))\n",
        "    for i in range(set1.shape[0]):\n",
        "        dmat[i,:] = (((set1[i,:]-set2)**2)**0.5).sum(axis=1)\n",
        "        \n",
        "    # do the square dist\n",
        "    # dmat = dmat ** 2\n",
        "    return dmat\n",
        "\n",
        "def remove_words(dists,set_words,clue_words,neg=False):\n",
        "    for w in set_words:\n",
        "        if w in clue_words:\n",
        "            if neg:\n",
        "                dists[clue_words.index(w)] = -1e6\n",
        "            else:\n",
        "                dists[clue_words.index(w)] = 1e6\n",
        "    return dists\n",
        "\n"
      ],
      "execution_count": 1,
      "outputs": [
        {
          "output_type": "stream",
          "text": [
            "/usr/local/lib/python3.6/dist-packages/statsmodels/tools/_testing.py:19: FutureWarning: pandas.util.testing is deprecated. Use the functions in the public API at pandas.testing instead.\n",
            "  import pandas.util.testing as tm\n"
          ],
          "name": "stderr"
        }
      ]
    },
    {
      "cell_type": "markdown",
      "metadata": {
        "id": "JD-DNkG-vqZ8",
        "colab_type": "text"
      },
      "source": [
        "# Word lists\n",
        "Download or upload and do some basic preprocessing"
      ]
    },
    {
      "cell_type": "code",
      "metadata": {
        "id": "oFmTwt1ivekE",
        "colab_type": "code",
        "colab": {
          "base_uri": "https://localhost:8080/",
          "height": 50
        },
        "outputId": "9622493c-1370-4320-b86c-8b14075ad6fb"
      },
      "source": [
        "# get clue words\n",
        "clue_words = []\n",
        "url = 'https://raw.githubusercontent.com/first20hours/google-10000-english/master/20k.txt' # 20k common words\n",
        "#url = 'https://raw.githubusercontent.com/dwyl/english-words/master/words.txt' # 479k english words, too many really\n",
        "#url = 'https://www.mit.edu/~ecprice/wordlist.10000' # 10k words\n",
        "#url = 'https://raw.githubusercontent.com/imsky/wordlists/master/ipsum/hipster.txt'\n",
        "#url = 'https://raw.githubusercontent.com/imsky/wordlists/master/ipsum/corporate.txt'\n",
        "#url = 'https://raw.githubusercontent.com/imsky/wordlists/master/adjectives/character.txt'\n",
        "#url = 'https://raw.githubusercontent.com/imsky/wordlists/master/adjectives/colors.txt'\n",
        "force_update = True\n",
        "if not(os.path.exists('clues.txt')) or force_update:\n",
        "  print('Downloading clues')\n",
        "  r = requests.get(url)\n",
        "  with open('clues.txt', 'wb') as f:\n",
        "      f.write(r.content)\n",
        "\n",
        "files = ['clues']\n",
        "for F in files:\n",
        "    with open(F + '.txt', 'r') as file:\n",
        "        Lines = file.readlines() \n",
        "        # Strips the newline character \n",
        "        for line in Lines: \n",
        "            clue_words += [line.strip().lower()]\n",
        "            \n",
        "# remove plurals to avoid 'fighters' being a clue for 'fighter'\n",
        "# really simple for now - anything that ends in an s\n",
        "plural_ix = [x[-1] != 's' for x in clue_words]\n",
        "clue_words = np.array(clue_words)[plural_ix]\n",
        "# remove short words\n",
        "ix = [len(x)>3 for x in clue_words]\n",
        "clue_words = clue_words[ix]\n",
        "# remove hyphenated words\n",
        "ix = ['-' not in x for x in clue_words]\n",
        "clue_words = clue_words[ix]\n",
        "clue_words = list(clue_words)\n",
        "\n",
        "print(len(clue_words),'clues in list')"
      ],
      "execution_count": 2,
      "outputs": [
        {
          "output_type": "stream",
          "text": [
            "Downloading clues\n",
            "14006 clues in list\n"
          ],
          "name": "stdout"
        }
      ]
    },
    {
      "cell_type": "markdown",
      "metadata": {
        "id": "OPvJ2JwUvnjU",
        "colab_type": "text"
      },
      "source": [
        "# Calculate Embeddings\n",
        "Download a few models from TF Hub - "
      ]
    },
    {
      "cell_type": "code",
      "metadata": {
        "id": "Pz_3yZiCWK5-",
        "colab_type": "code",
        "colab": {}
      },
      "source": [
        "USE = hub.load(\"https://tfhub.dev/google/universal-sentence-encoder/4\")\n",
        "SWIVEL = hub.load(\"https://tfhub.dev/google/tf2-preview/gnews-swivel-20dim-with-oov/1\")\n",
        "#W2V = hub.load(\"https://tfhub.dev/google/Wiki-words-250/2\")\n",
        "#NNLM = hub.load(\"https://tfhub.dev/google/nnlm-en-dim128/2\")"
      ],
      "execution_count": 3,
      "outputs": []
    },
    {
      "cell_type": "markdown",
      "metadata": {
        "id": "gCRTRkWov6es",
        "colab_type": "text"
      },
      "source": [
        "Set the current game words and turn here - delete as words are removed from the game"
      ]
    },
    {
      "cell_type": "code",
      "metadata": {
        "id": "QUlzJZyWzOUw",
        "colab_type": "code",
        "colab": {}
      },
      "source": [
        "TURN = 'blue'\n",
        "# colours refer to those used in the game\n",
        "RED = ['jam','light','olympus','model','jack','pitch','belt','mass','egypt']\n",
        "BLUE = ['grass','apple','kangaroo','note','novel','tablet','kid','spell']\n",
        "grey_words = ['round','button','crane','wind','sink','superhero','shop']\n",
        "black_words = ['suit']\n",
        "\n",
        "# Each team can use different embedding models for a bit of variety\n",
        "if TURN == 'red':\n",
        "  your_words = RED\n",
        "  opp_words = BLUE\n",
        "  embed = USE\n",
        "else:\n",
        "  your_words = BLUE\n",
        "  opp_words = RED\n",
        "  embed = USE\n",
        "\n",
        "\n",
        "game_words = your_words + opp_words + grey_words + black_words\n",
        "\n",
        "# calculate all embeddings\n",
        "clue_embed = embed(clue_words).numpy()\n",
        "your_embed = embed(your_words).numpy()\n",
        "opp_embed = embed(opp_words).numpy()\n",
        "grey_embed = embed(grey_words).numpy()\n",
        "black_embed = embed(black_words).numpy()\n",
        "\n",
        "\n",
        "# find distances\n",
        "# using mean for now, maybe median would be best\n",
        "clue_your_full = calc_dist(clue_embed,your_embed)\n",
        "clue_your = remove_words(np.max(clue_your_full,axis=1),game_words,clue_words)\n",
        "clue_opp = np.min(calc_dist(clue_embed,opp_embed),axis=1)\n",
        "clue_grey = np.min(calc_dist(clue_embed,grey_embed),axis=1)\n",
        "clue_black = np.min(calc_dist(clue_embed,black_embed),axis=1)\n"
      ],
      "execution_count": 6,
      "outputs": []
    },
    {
      "cell_type": "code",
      "metadata": {
        "id": "nmCulMY8ylHK",
        "colab_type": "code",
        "colab": {
          "base_uri": "https://localhost:8080/",
          "height": 151
        },
        "outputId": "38502aec-d75f-4e3c-87fa-17fb0565178a"
      },
      "source": [
        "# Find the best clue for 1 to N words\n",
        "num_your = your_embed.shape[0]\n",
        "# get the base distance - we only need to calculate this once\n",
        "base = clue_opp*2 + clue_grey/2 + clue_black**0.5\n",
        "# set a max base distance\n",
        "mx = np.percentile(base,95)\n",
        "base[base>mx] = mx\n",
        "best_ixs = []\n",
        "link_to = []\n",
        "for n_tries in range(1,num_your+1):\n",
        "    _best = -1e6\n",
        "    best_answer = ''\n",
        "    \n",
        "    for comb in itertools.combinations(range(num_your), n_tries):\n",
        "        # calculate the distance to a given set of clues\n",
        "        _clue_your = remove_words(np.max(clue_your_full[:,comb],axis=1),game_words,clue_words)\n",
        "        dists = base -_clue_your*3\n",
        "\n",
        "        best_word = clue_words[dists.argmax()]\n",
        "        best_val = np.round(dists.max(),2)\n",
        "        target_words = '-'.join(list(np.array(your_words)[list(comb)]))\n",
        "        if best_val > _best:\n",
        "            _best = best_val\n",
        "            best_ix = dists.argmax()\n",
        "            best_answer = ' '.join([target_words,str(best_val),best_word,str(best_ix)])\n",
        "            top3 = dists.argsort()[::-1][1:3]\n",
        "            link_words = comb\n",
        "    print(best_answer)\n",
        "    best_ixs += [best_ix]\n",
        "    link_to += [link_words]\n"
      ],
      "execution_count": 8,
      "outputs": [
        {
          "output_type": "stream",
          "text": [
            "note 22.16 notice 457\n",
            "note-novel 1.5 revised 2042\n",
            "novel-kid-spell -1.15 beloved 7176\n",
            "apple-novel-kid-spell -2.86 adolescent 6496\n",
            "apple-novel-tablet-kid-spell -3.99 scholastic 11622\n",
            "grass-apple-kangaroo-tablet-kid-spell -5.76 pony 7190\n",
            "grass-apple-kangaroo-novel-tablet-kid-spell -6.6 diabetic 7562\n",
            "grass-apple-kangaroo-note-novel-tablet-kid-spell -7.57 hound 11498\n"
          ],
          "name": "stdout"
        }
      ]
    },
    {
      "cell_type": "markdown",
      "metadata": {
        "id": "L5ShYj-TxPdP",
        "colab_type": "text"
      },
      "source": [
        "# Player AI\n",
        "Much simpler - either use the game words defined above or write them in here"
      ]
    },
    {
      "cell_type": "code",
      "metadata": {
        "id": "4m8q91ntZKbJ",
        "colab_type": "code",
        "colab": {
          "base_uri": "https://localhost:8080/",
          "height": 84
        },
        "outputId": "b09f977b-b05e-43c9-e901-6e8b291439cf"
      },
      "source": [
        "# guesser embeddings\n",
        "embed = USE\n",
        "# clue \n",
        "clue_word = ['enterprise']\n",
        "N = 2 \n",
        "\n",
        "game_words = []\n",
        "game_words = your_words + opp_words + grey_words + black_words\n",
        "\n",
        "single_clue_embed = embed(clue_word).numpy()\n",
        "game_embed = embed(game_words).numpy()\n",
        "# find the words clostes to the clue\n",
        "clue_game = np.min(calc_dist(game_embed,single_clue_embed),axis=1)\n",
        "N += 2 # we'll look at a couple of extra guesses\n",
        "topN = clue_game.argsort()[:N]\n",
        "for i in topN:\n",
        "  print(game_words[i],np.round(clue_game[i],2))\n",
        "\n"
      ],
      "execution_count": 10,
      "outputs": [
        {
          "output_type": "stream",
          "text": [
            "apple 20.57\n",
            "model 21.17\n",
            "suit 21.33\n",
            "superhero 21.93\n"
          ],
          "name": "stdout"
        }
      ]
    }
  ]
}